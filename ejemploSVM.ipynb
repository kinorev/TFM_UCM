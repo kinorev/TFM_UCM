{
 "cells": [
  {
   "cell_type": "code",
   "execution_count": 1,
   "metadata": {
    "collapsed": true
   },
   "outputs": [],
   "source": [
    "import numpy as np\n",
    "import matplotlib.pyplot as plt\n",
    "from matplotlib import style\n",
    "style.use(\"ggplot\")\n",
    "from sklearn import svm"
   ]
  },
  {
   "cell_type": "code",
   "execution_count": 2,
   "metadata": {
    "collapsed": false
   },
   "outputs": [],
   "source": [
    "x = [1, 5, 1.5, 8, 1, 9]\n",
    "y = [2, 8, 1.8, 8, 0.6, 11]"
   ]
  },
  {
   "cell_type": "code",
   "execution_count": 3,
   "metadata": {
    "collapsed": false
   },
   "outputs": [
    {
     "data": {
      "image/png": "[encoded data removed]",
      "text/plain": [
       "<matplotlib.figure.Figure at 0x2b88b2e4dd8>"
      ]
     },
     "metadata": {},
     "output_type": "display_data"
    }
   ],
   "source": [
    "plt.scatter(x,y)\n",
    "plt.show()"
   ]
  },
  {
   "cell_type": "code",
   "execution_count": 4,
   "metadata": {
    "collapsed": false
   },
   "outputs": [
    {
     "name": "stdout",
     "output_type": "stream",
     "text": [
      "[[1 1 1 1 1 1 1 1 1 1 1 1 1]\n",
      " [0 1 1 1 1 1 1 1 1 1 1 1 1]\n",
      " [0 0 0 0 0 0 0 0 0 0 0 0 0]\n",
      " [0 0 0 0 0 0 0 0 0 1 1 1 1]\n",
      " [1 1 1 1 1 1 1 1 1 1 1 1 1]\n",
      " [0 1 1 1 1 1 1 1 1 1 1 1 1]\n",
      " [0 0 0 0 0 0 0 0 0 0 0 0 0]\n",
      " [0 0 0 0 0 0 0 0 0 1 1 1 1]\n",
      " [1 1 1 1 1 1 1 1 1 1 1 1 1]\n",
      " [0 1 1 1 1 1 1 1 1 1 1 1 1]\n",
      " [0 0 0 0 0 0 0 0 0 0 0 0 0]\n",
      " [0 0 0 0 0 0 0 0 0 1 1 1 1]\n",
      " [1 1 1 1 1 1 1 1 1 1 1 1 1]\n",
      " [0 1 1 1 1 1 1 1 1 1 1 1 1]\n",
      " [0 0 0 0 0 0 0 0 0 0 0 0 0]\n",
      " [0 0 0 0 0 0 0 0 0 1 1 1 1]]\n"
     ]
    }
   ],
   "source": [
    "X = np.array([[1, 1, 1, 1, 1, 1, 1, 1, 1, 1, 1, 1, 1],\n",
    "            [0, 1, 1, 1, 1, 1, 1, 1, 1, 1, 1, 1, 1],\n",
    "              [0, 0, 0, 0, 0, 0, 0, 0, 0, 0, 0, 0, 0],\n",
    "              [0, 0, 0, 0, 0, 0, 0, 0, 0, 1, 1, 1, 1],[1, 1, 1, 1, 1, 1, 1, 1, 1, 1, 1, 1, 1],\n",
    "            [0, 1, 1, 1, 1, 1, 1, 1, 1, 1, 1, 1, 1],\n",
    "              [0, 0, 0, 0, 0, 0, 0, 0, 0, 0, 0, 0, 0],\n",
    "              [0, 0, 0, 0, 0, 0, 0, 0, 0, 1, 1, 1, 1],[1, 1, 1, 1, 1, 1, 1, 1, 1, 1, 1, 1, 1],\n",
    "            [0, 1, 1, 1, 1, 1, 1, 1, 1, 1, 1, 1, 1],\n",
    "              [0, 0, 0, 0, 0, 0, 0, 0, 0, 0, 0, 0, 0],\n",
    "              [0, 0, 0, 0, 0, 0, 0, 0, 0, 1, 1, 1, 1],[1, 1, 1, 1, 1, 1, 1, 1, 1, 1, 1, 1, 1],\n",
    "            [0, 1, 1, 1, 1, 1, 1, 1, 1, 1, 1, 1, 1],\n",
    "              [0, 0, 0, 0, 0, 0, 0, 0, 0, 0, 0, 0, 0],\n",
    "              [0, 0, 0, 0, 0, 0, 0, 0, 0, 1, 1, 1, 1]])\n",
    "print(X)"
   ]
  },
  {
   "cell_type": "code",
   "execution_count": 5,
   "metadata": {
    "collapsed": false
   },
   "outputs": [
    {
     "name": "stdout",
     "output_type": "stream",
     "text": [
      "[[ 0.          0.          0.        ]\n",
      " [ 0.          1.05435766  0.6368221 ]\n",
      " [ 0.          1.05435766  0.6368221 ]\n",
      " [ 0.69897     1.05435766  0.6368221 ]\n",
      " [ 0.69897     1.05435766  0.6368221 ]]\n"
     ]
    }
   ],
   "source": [
    "X =np.array([[0, 0, 0],\n",
    "[0, 1.0543576623225925, 0.6368220975871742],\n",
    "[0, 1.0543576623225925, 0.6368220975871742],\n",
    "[0.6989700043360187, 1.0543576623225925, 0.6368220975871742],\n",
    "[0.6989700043360187, 1.0543576623225925, 0.6368220975871742]])\n",
    "print (X)"
   ]
  },
  {
   "cell_type": "code",
   "execution_count": 6,
   "metadata": {
    "collapsed": false
   },
   "outputs": [],
   "source": [
    "y = np.array([0,1,1,2,1])"
   ]
  },
  {
   "cell_type": "code",
   "execution_count": 7,
   "metadata": {
    "collapsed": false
   },
   "outputs": [
    {
     "name": "stdout",
     "output_type": "stream",
     "text": [
      "(5, 3)\n",
      "(5,)\n"
     ]
    }
   ],
   "source": [
    "clf = svm.SVC(kernel='linear', C = 1.0)\n",
    "print (X.shape) # (5,4)\n",
    "print (y.shape) # (5,)"
   ]
  },
  {
   "cell_type": "code",
   "execution_count": 8,
   "metadata": {
    "collapsed": false
   },
   "outputs": [
    {
     "data": {
      "text/plain": [
       "SVC(C=1.0, cache_size=200, class_weight=None, coef0=0.0,\n",
       "  decision_function_shape=None, degree=3, gamma='auto', kernel='linear',\n",
       "  max_iter=-1, probability=False, random_state=None, shrinking=True,\n",
       "  tol=0.001, verbose=False)"
      ]
     },
     "execution_count": 8,
     "metadata": {},
     "output_type": "execute_result"
    }
   ],
   "source": [
    "clf.fit(X,y)"
   ]
  },
  {
   "cell_type": "code",
   "execution_count": 9,
   "metadata": {
    "collapsed": false,
    "scrolled": false
   },
   "outputs": [
    {
     "name": "stdout",
     "output_type": "stream",
     "text": [
      "[0]\n"
     ]
    },
    {
     "name": "stderr",
     "output_type": "stream",
     "text": [
      "C:\\Users\\VerónicaChamorroAlva\\AppData\\Local\\Continuum\\Anaconda3\\lib\\site-packages\\sklearn\\utils\\validation.py:395: DeprecationWarning: Passing 1d arrays as data is deprecated in 0.17 and will raise ValueError in 0.19. Reshape your data either using X.reshape(-1, 1) if your data has a single feature or X.reshape(1, -1) if it contains a single sample.\n",
      "  DeprecationWarning)\n"
     ]
    }
   ],
   "source": [
    "print(clf.predict([1, 0, 0]))"
   ]
  },
  {
   "cell_type": "code",
   "execution_count": 10,
   "metadata": {
    "collapsed": false
   },
   "outputs": [
    {
     "name": "stdout",
     "output_type": "stream",
     "text": [
      "[[ 0.69897     1.05435766  0.6368221 ]\n",
      " [ 0.69897     1.05435766  0.6368221 ]\n",
      " [ 0.69897     1.05435766  0.6368221 ]\n",
      " [ 0.          1.05435766  0.6368221 ]\n",
      " [ 0.          1.05435766  0.6368221 ]\n",
      " [ 0.69897     1.05435766  0.6368221 ]\n",
      " [ 0.69897     1.05435766  0.6368221 ]\n",
      " [ 0.69897     1.05435766  0.6368221 ]\n",
      " [ 0.          1.05435766  0.6368221 ]\n",
      " [ 0.          1.05435766  0.6368221 ]\n",
      " [ 0.          1.05435766  0.6368221 ]\n",
      " [ 0.          1.05435766  0.6368221 ]\n",
      " [ 0.          1.05435766  0.6368221 ]\n",
      " [ 0.          1.05435766  0.6368221 ]\n",
      " [ 0.          1.05435766  0.6368221 ]\n",
      " [ 0.          1.05435766  0.6368221 ]\n",
      " [ 0.          1.05435766  0.6368221 ]\n",
      " [ 0.          1.05435766  0.6368221 ]\n",
      " [ 0.          1.05435766  0.6368221 ]\n",
      " [ 0.          1.05435766  0.6368221 ]\n",
      " [ 0.69897     1.05435766  0.6368221 ]\n",
      " [ 0.69897     1.05435766  0.6368221 ]\n",
      " [ 0.69897     1.05435766  0.6368221 ]\n",
      " [ 0.          1.05435766  0.6368221 ]\n",
      " [ 0.          1.05435766  0.6368221 ]\n",
      " [ 0.          1.05435766  0.6368221 ]\n",
      " [ 0.          1.05435766  0.6368221 ]\n",
      " [ 0.          0.          0.        ]\n",
      " [ 0.          1.05435766  0.6368221 ]\n",
      " [ 0.          1.05435766  0.6368221 ]\n",
      " [ 0.69897     1.05435766  0.6368221 ]\n",
      " [ 0.69897     1.05435766  0.6368221 ]\n",
      " [ 0.69897     1.05435766  0.6368221 ]\n",
      " [ 0.          1.05435766  0.6368221 ]\n",
      " [ 0.          1.05435766  0.6368221 ]\n",
      " [ 0.          1.05435766  0.6368221 ]\n",
      " [ 0.          1.05435766  0.6368221 ]\n",
      " [ 0.          1.05435766  0.6368221 ]\n",
      " [ 0.          1.05435766  0.6368221 ]\n",
      " [ 0.          1.05435766  0.6368221 ]\n",
      " [ 0.69897     1.05435766  0.6368221 ]\n",
      " [ 0.69897     1.05435766  0.6368221 ]\n",
      " [ 0.69897     1.05435766  0.6368221 ]\n",
      " [ 0.          1.05435766  0.6368221 ]]\n"
     ]
    }
   ],
   "source": [
    "X =np.array([[ 0.69897,1.05435766,0.6368221 ],\n",
    " [0.69897,1.05435766,0.6368221 ],\n",
    " [0.69897,1.05435766,0.6368221 ],\n",
    " [0.,1.05435766,0.6368221 ],\n",
    " [0.,1.05435766,0.6368221 ],\n",
    " [0.69897,1.05435766,0.6368221 ],\n",
    " [0.69897,1.05435766,0.6368221 ],\n",
    " [0.69897,1.05435766,0.6368221 ],\n",
    " [0.,1.05435766,0.6368221 ],\n",
    " [0.,1.05435766,0.6368221 ],\n",
    " [0.,1.05435766,0.6368221 ],\n",
    " [0.,1.05435766,0.6368221 ],[0.,1.05435766,0.6368221 ],[0.,1.05435766,0.6368221 ],[0.,1.05435766,0.6368221 ],[0.,1.05435766,0.6368221 ],[0.,1.05435766,0.6368221 ],[0.,1.05435766,0.6368221 ],[0.,1.05435766,0.6368221 ],[0.,1.05435766,0.6368221 ],[0.69897,1.05435766,0.6368221 ],[0.69897,1.05435766,0.6368221 ],[0.69897,1.05435766,0.6368221 ],[0.,1.05435766,0.6368221 ],[0.,1.05435766,0.6368221 ],[0.,1.05435766,0.6368221 ],[0.,1.05435766,0.6368221 ],[0.,0.,0., ],[0.,1.05435766,0.6368221 ],[0.,1.05435766,0.6368221 ],[0.69897,1.05435766,0.6368221 ],[0.69897,1.05435766,0.6368221 ],[0.69897,1.05435766,0.6368221 ],[0.,1.05435766,0.6368221 ],[0.,1.05435766,0.6368221 ],[0.,1.05435766,0.6368221 ],[0.,1.05435766,0.6368221 ],[0.,1.05435766,0.6368221 ],[0.,1.05435766,0.6368221 ],[0.,1.05435766,0.6368221 ],[0.69897,1.05435766,0.6368221 ],[0.69897,1.05435766,0.6368221 ],[0.69897,1.05435766,0.6368221 ],\n",
    "             [0.,1.05435766,0.6368221 ]])\n",
    "print(X)"
   ]
  },
  {
   "cell_type": "code",
   "execution_count": 11,
   "metadata": {
    "collapsed": false
   },
   "outputs": [
    {
     "name": "stdout",
     "output_type": "stream",
     "text": [
      "(44, 3)\n",
      "(44,)\n"
     ]
    }
   ],
   "source": [
    "y = np.array([0, 0, 1, 1, 1, 1, 1, 1, 1, 1, 1, 1, 1, 1, 1, 1, 1, 1, 1, 1, 1, 1, 1, 1, 1, 1, 1, 1, 1, 1, 1, 1, 1, 1, 1, 1, 1, 1, 1, 1, 1, 1, 1, 1])\n",
    "clf = svm.SVC(kernel='linear', C = 1.0)\n",
    "print (X.shape) # (5,4)\n",
    "print (y.shape) # (5,)\n"
   ]
  },
  {
   "cell_type": "code",
   "execution_count": 12,
   "metadata": {
    "collapsed": false
   },
   "outputs": [
    {
     "data": {
      "text/plain": [
       "SVC(C=1.0, cache_size=200, class_weight=None, coef0=0.0,\n",
       "  decision_function_shape=None, degree=3, gamma='auto', kernel='linear',\n",
       "  max_iter=-1, probability=False, random_state=None, shrinking=True,\n",
       "  tol=0.001, verbose=False)"
      ]
     },
     "execution_count": 12,
     "metadata": {},
     "output_type": "execute_result"
    }
   ],
   "source": [
    "clf.fit(X,y)"
   ]
  },
  {
   "cell_type": "code",
   "execution_count": 13,
   "metadata": {
    "collapsed": false
   },
   "outputs": [
    {
     "name": "stdout",
     "output_type": "stream",
     "text": [
      "[ 0.  0.  0.]\n"
     ]
    },
    {
     "name": "stderr",
     "output_type": "stream",
     "text": [
      "C:\\Users\\VerónicaChamorroAlva\\AppData\\Local\\Continuum\\Anaconda3\\lib\\site-packages\\ipykernel_launcher.py:4: RuntimeWarning: invalid value encountered in double_scalars\n",
      "  after removing the cwd from sys.path.\n",
      "C:\\Users\\VerónicaChamorroAlva\\AppData\\Local\\Continuum\\Anaconda3\\lib\\site-packages\\ipykernel_launcher.py:7: RuntimeWarning: divide by zero encountered in double_scalars\n",
      "  import sys\n"
     ]
    },
    {
     "data": {
      "image/png": "[encoded data removed]",
      "text/plain": [
       "<matplotlib.figure.Figure at 0x2b88e307f60>"
      ]
     },
     "metadata": {},
     "output_type": "display_data"
    }
   ],
   "source": [
    "w = clf.coef_[0]\n",
    "print(w)\n",
    "\n",
    "a = -w[0] / w[1]\n",
    "\n",
    "xx = np.linspace(0,12)\n",
    "yy = a * xx - clf.intercept_[0] / w[1]\n",
    "\n",
    "h0 = plt.plot(xx, yy, 'k-', label=\"non weighted div\")\n",
    "\n",
    "plt.scatter(X[:, 0], X[:, 1], c = y)\n",
    "plt.legend()\n",
    "plt.show()"
   ]
  },
  {
   "cell_type": "code",
   "execution_count": 14,
   "metadata": {
    "collapsed": false
   },
   "outputs": [
    {
     "name": "stdout",
     "output_type": "stream",
     "text": [
      "carpeta\n"
     ]
    }
   ],
   "source": [
    "import re\n",
    "\n",
    "palabras = ['careta', 'carpeta', 'colita', 'cateta', 'cocreta', 'caleta', 'caseta']\n",
    "for termino in palabras:\n",
    "    if re.match('ca(...)ta', termino):\n",
    "        print(termino)  # careta , carpeta, cateta, caleta, caseta "
   ]
  },
  {
   "cell_type": "code",
   "execution_count": 28,
   "metadata": {
    "collapsed": false
   },
   "outputs": [
    {
     "name": "stdout",
     "output_type": "stream",
     "text": [
      "https://prueba.com\n",
      "http://sdjdsjkkjsd.ooscmms\n"
     ]
    }
   ],
   "source": [
    "palabras = ['https://prueba.com', 'http://sdjdsjkkjsd.ooscmms', 'otra1', 'otra2']\n",
    "for termino in palabras:\n",
    "    if re.match('htt[0-5a-z]', termino):  # nº de 0 a 5 y letra de a a z\n",
    "        print(termino) "
   ]
  },
  {
   "cell_type": "code",
   "execution_count": 15,
   "metadata": {
    "collapsed": false
   },
   "outputs": [
    {
     "name": "stdout",
     "output_type": "stream",
     "text": [
      "Lluvia y tráfico combinación ideal para hacer un día de mier coles   Sonae SR  Worten HQ  wortenes httpstco0QzdHDysRs \n",
      "Lluvia y tráfico combinación ideal para hacer un día de mier coles   Sonae SR  Worten HQ  wortenes httpstco0QzdHDysRs \n"
     ]
    }
   ],
   "source": [
    "text = 'Lluvia y tráfico, combinación ideal para hacer un día de mier... coles 😅 (@ Sonae SR - Worten HQ - @wortenes) https://t.co/0QzdHDysRs '\n",
    "prueba1=re.sub(r'[^\\w\\s]','',text)   #solo palabras \n",
    "print(prueba1)\n",
    "prueba2=re.sub(r'(htt[a-z]\\s)', 'you', prueba1)\n",
    "print(prueba2)"
   ]
  },
  {
   "cell_type": "code",
   "execution_count": 16,
   "metadata": {
    "collapsed": false
   },
   "outputs": [
    {
     "data": {
      "text/plain": [
       "'Lluvia y tráfico, combinación ideal para hacer un día de mier... coles 😅 (@ Sonae SR - Worten HQ - @wortenes) https://t.co/0QzdHDysRs '"
      ]
     },
     "execution_count": 16,
     "metadata": {},
     "output_type": "execute_result"
    }
   ],
   "source": [
    "re.sub(r'[\\s\\w]Tem[\\w\\s]', ' & ', text, flags=re.IGNORECASE)"
   ]
  },
  {
   "cell_type": "code",
   "execution_count": 17,
   "metadata": {
    "collapsed": false
   },
   "outputs": [
    {
     "name": "stdout",
     "output_type": "stream",
     "text": [
      "Lluvia y tráfico, combinación ideal para hacer un día de mier... coles 😅 (@ Sonae SR - Worten HQ - @wortenes)  \n"
     ]
    }
   ],
   "source": [
    "URLless_string = re.sub(r'\\w+:\\/{2}[\\d\\w-]+(\\.[\\d\\w-]+)*(?:(?:\\/[^\\s/]*))*', '', text)\n",
    "print (URLless_string)"
   ]
  },
  {
   "cell_type": "code",
   "execution_count": 18,
   "metadata": {
    "collapsed": true
   },
   "outputs": [],
   "source": [
    "def review_to_wordlist( review, remove_stopwords=True, stemmer=True):\n",
    "    # Function to convert a document to a sequence of words,\n",
    "    # optionally removing stop words.  Returns a list of words.\n",
    "   # review_text = review.replace(\"@\",'')\n",
    "    #review_text = re.sub(r'[^\\w\\s]|\\d','',review)  \n",
    "    \n",
    "   # review = review.lower().split() \n",
    "   \n",
    "   \n",
    "    #pprint(review)\n",
    "    review_text=re.sub(r'\\w+:\\/{2}[\\d\\w-]+(\\.[\\d\\w-]+)*(?:(?:\\/[^\\s/]*))*', '', review) #quita links\n",
    "   \n",
    "    review_text1 = re.sub(r'[^\\w\\s]|\\d','',review_text) \n",
    "    #pprint(review_text1)\n",
    "    words = review_text1.lower().split() \n",
    " #   wordcloud = review_text.lower().split()\n",
    "\n",
    "    if remove_stopwords:\n",
    "        stops = set(stopwords.words(\"spanish\"))\n",
    "        stops = list(stops) + ['https', 'co','si','ª','...','x','n','to','⒍','q','mas']\n",
    "        #stops = list(stops)\n",
    "       # print(stops)\n",
    "        words = [w for w in words if not w in stops]\n",
    "      \n",
    "    if stemmer:\n",
    "        b = []\n",
    "        stemmer = spanish_stemmer\n",
    "        for word in words:\n",
    "            b.append(stemmer.stem(word))\n",
    "    else:\n",
    "        b = words\n",
    "    # 5. Return a list of words\n",
    "    \n",
    "    return(b)"
   ]
  },
  {
   "cell_type": "code",
   "execution_count": null,
   "metadata": {
    "collapsed": true
   },
   "outputs": [],
   "source": []
  }
 ],
 "metadata": {
  "kernelspec": {
   "display_name": "Python 3",
   "language": "python",
   "name": "python3"
  },
  "language_info": {
   "codemirror_mode": {
    "name": "ipython",
    "version": 3
   },
   "file_extension": ".py",
   "mimetype": "text/x-python",
   "name": "python",
   "nbconvert_exporter": "python",
   "pygments_lexer": "ipython3",
   "version": "3.6.0"
  },
  "toc": {
   "colors": {
    "hover_highlight": "#DAA520",
    "running_highlight": "#FF0000",
    "selected_highlight": "#FFD700"
   },
   "moveMenuLeft": true,
   "nav_menu": {
    "height": "12px",
    "width": "252px"
   },
   "navigate_menu": true,
   "number_sections": true,
   "sideBar": true,
   "threshold": 4,
   "toc_cell": false,
   "toc_section_display": "block",
   "toc_window_display": false,
   "widenNotebook": false
  }
 },
 "nbformat": 4,
 "nbformat_minor": 2
}
