{
 "cells": [
  {
   "cell_type": "code",
   "execution_count": 13,
   "metadata": {
    "collapsed": true
   },
   "outputs": [],
   "source": [
    "import numpy as np\n",
    "import matplotlib.pyplot as plt\n",
    "from matplotlib import style\n",
    "style.use(\"ggplot\")\n",
    "from sklearn import svm"
   ]
  },
  {
   "cell_type": "code",
   "execution_count": 110,
   "metadata": {
    "collapsed": false
   },
   "outputs": [
    {
     "name": "stdout",
     "output_type": "stream",
     "text": [
      "[nltk_data] Downloading package stopwords to\n",
      "[nltk_data]     C:\\Users\\VerónicaChamorroAlva\\AppData\\Roaming\\nltk_dat\n",
      "[nltk_data]     a...\n",
      "[nltk_data]   Package stopwords is already up-to-date!\n",
      "351671\n",
      "inicio: 20:52:57\n",
      "fin: 20:52:59\n"
     ]
    }
   ],
   "source": [
    "# -*- coding: utf-8 -*-\n",
    "\"\"\"\n",
    "@author: VerónicaChamorroAlva\n",
    "\"\"\"\n",
    "import pymongo \n",
    "import pandas as pd\n",
    "import json\n",
    "import os\n",
    "from os import listdir\n",
    "from os.path import isfile, join\n",
    "from pandas.io.json import json_normalize\n",
    "import time\n",
    "from math import log\n",
    "import nltk\n",
    "nltk.download(\"stopwords\")\n",
    "from pprint import pprint\n",
    "from os import listdir\n",
    "from os.path import isfile, join\n",
    "from pandas.io.json import json_normalize\n",
    "\n",
    "from nltk.corpus import stopwords\n",
    "from nltk.stem import SnowballStemmer\n",
    "spanish_stemmer = SnowballStemmer('spanish')\n",
    "import re\n",
    "\n",
    "\n",
    "def review_to_wordlist( review, remove_stopwords=True, stemmer=True):\n",
    "    # Function to convert a document to a sequence of words,\n",
    "    # optionally removing stop words.  Returns a list of words.\n",
    "   # review_text = review.replace(\"@\",'')\n",
    "    #review_text = re.sub(r'[^\\w\\s]|\\d','',review)  \n",
    "    \n",
    "   # review = review.lower().split() \n",
    "   \n",
    "   \n",
    "    #pprint(review)\n",
    "    review_text=re.sub(r'\\w+:\\/{2}[\\d\\w-]+(\\.[\\d\\w-]+)*(?:(?:\\/[^\\s/]*))*', '', review) #quita links\n",
    "   \n",
    "    review_text1 = re.sub(r'[^\\w\\s]','',review_text)   #quita caracteres especiales\n",
    "    #pprint(review_text1)\n",
    "    words = review_text1.lower().split() \n",
    " #   wordcloud = review_text.lower().split()\n",
    "\n",
    "    if remove_stopwords:\n",
    "        stops = set(stopwords.words(\"spanish\"))\n",
    "        stops = list(stops) + ['https', 'co','si']\n",
    "        #stops = list(stops)\n",
    "       # print(stops)\n",
    "        words = [w for w in words if not w in stops]\n",
    "      \n",
    "    if stemmer:\n",
    "        b = []\n",
    "        stemmer = spanish_stemmer\n",
    "        for word in words:\n",
    "            b.append(stemmer.stem(word))\n",
    "    else:\n",
    "        b = words\n",
    "    # 5. Return a list of words\n",
    "    \n",
    "    return(b)\n",
    "\n",
    "def open_conection():\n",
    "    client = pymongo.MongoClient('localhost',27017)\n",
    "    return client\n",
    "\n",
    "client = open_conection()\n",
    "db = client.twitter\n",
    "col = db.cam2017Entr\n",
    "\n",
    "print(col.count())\n",
    "\n",
    "print ('inicio:', time.strftime('%H:%M:%S'))\n",
    "#cursor = col.find({'text': \"*/tráfico/*\"},{ 'text': 1, '_id': 1 }) \n",
    "cursor = col.find({'text':{\"$regex\": \"tráfico\"}},{ 'text': 1, '_id': 1 })\n",
    "l = list(cursor)\n",
    "tabla = pd.DataFrame(l)\n",
    "print ('fin:', time.strftime('%H:%M:%S'))\n",
    "\n",
    "#tabla = pd.read_json('Oct24.json')\n",
    "#tabla.iloc[:1] \n",
    "\n",
    "\n",
    "res = tabla[['_id', 'text']]\n",
    "#print (res)\n",
    "\n",
    "tabla1 = pd.DataFrame(res)\n",
    "tabla1['words'] = tabla1.text.apply(review_to_wordlist)\n",
    "tabla1\n",
    "#print (tabla1.head)\n",
    "#print (type(tabla1))\n",
    "keyw={}\n",
    "for e in tabla1.words:\n",
    "    for i in e:\n",
    "       if i in keyw:\n",
    "           keyw[i]=keyw[i]+1\n",
    "       else:\n",
    "           keyw[i]=1\n"
   ]
  },
  {
   "cell_type": "code",
   "execution_count": 111,
   "metadata": {
    "collapsed": false
   },
   "outputs": [
    {
     "name": "stdout",
     "output_type": "stream",
     "text": [
      "3\n"
     ]
    }
   ],
   "source": [
    "dpeso=[]\n",
    "dpesoWords={}\n",
    "\n",
    "totalK=len(keyw)\n",
    "total=0\n",
    "for k,v in keyw.items():\n",
    "   # print(v/totalK)\n",
    "    if(v>10):\n",
    "        total=total+1\n",
    "        \n",
    "for k,v in keyw.items():\n",
    "   # print(v/totalK)\n",
    "    if(v>10):\n",
    "        dpeso.append((k,log(v/total,10)))\n",
    "    \n",
    "    #dpesoWords[k]={k,v,log(v/totalK)}\n",
    "\n",
    "#print (dpesoWords)\n",
    "pprint (len(dpeso))\n",
    "#pprint(totalK)\n",
    "#print ('final2:', time.strftime('%H:%M:%S'))"
   ]
  },
  {
   "cell_type": "code",
   "execution_count": 112,
   "metadata": {
    "collapsed": false
   },
   "outputs": [
    {
     "data": {
      "text/html": [
       "<div>\n",
       "<table border=\"1\" class=\"dataframe\">\n",
       "  <thead>\n",
       "    <tr style=\"text-align: right;\">\n",
       "      <th></th>\n",
       "      <th>_id</th>\n",
       "      <th>text</th>\n",
       "      <th>words</th>\n",
       "    </tr>\n",
       "  </thead>\n",
       "  <tbody>\n",
       "    <tr>\n",
       "      <th>0</th>\n",
       "      <td>722403909298315264</td>\n",
       "      <td>#Stigmabase | ES :  Acabar con la siniestra es...</td>\n",
       "      <td>[stigmab, acab, siniestr, espiral, trafic, con...</td>\n",
       "    </tr>\n",
       "    <tr>\n",
       "      <th>1</th>\n",
       "      <td>722463912973570049</td>\n",
       "      <td>Stigmabase | ES -  Acabar con la siniestra esp...</td>\n",
       "      <td>[stigmab, acab, siniestr, espiral, trafic, con...</td>\n",
       "    </tr>\n",
       "    <tr>\n",
       "      <th>2</th>\n",
       "      <td>722463931084607488</td>\n",
       "      <td>Stigmabase | ES -  Acabar con la siniestra esp...</td>\n",
       "      <td>[stigmab, acab, siniestr, espiral, trafic, con...</td>\n",
       "    </tr>\n",
       "    <tr>\n",
       "      <th>3</th>\n",
       "      <td>722662867653279744</td>\n",
       "      <td>#Madrid El Ayuntamiento refuerza sus medidas d...</td>\n",
       "      <td>[madr, ayunt, refuerz, med, gestion, trafic, l...</td>\n",
       "    </tr>\n",
       "    <tr>\n",
       "      <th>4</th>\n",
       "      <td>722681221411684353</td>\n",
       "      <td>Lluvia y tráfico, combinación ideal para hacer...</td>\n",
       "      <td>[lluvi, trafic, combin, ideal, hac, dia, mier,...</td>\n",
       "    </tr>\n",
       "    <tr>\n",
       "      <th>5</th>\n",
       "      <td>723139143782404096</td>\n",
       "      <td>#Stigmabase | ES :  Acabar con la siniestra es...</td>\n",
       "      <td>[stigmab, acab, siniestr, espiral, trafic, con...</td>\n",
       "    </tr>\n",
       "    <tr>\n",
       "      <th>6</th>\n",
       "      <td>723236390574522368</td>\n",
       "      <td>Stigmabase | ES -  Acabar con la siniestra esp...</td>\n",
       "      <td>[stigmab, acab, siniestr, espiral, trafic, con...</td>\n",
       "    </tr>\n",
       "    <tr>\n",
       "      <th>7</th>\n",
       "      <td>723236402083713024</td>\n",
       "      <td>Stigmabase | ES -  Acabar con la siniestra esp...</td>\n",
       "      <td>[stigmab, acab, siniestr, espiral, trafic, con...</td>\n",
       "    </tr>\n",
       "    <tr>\n",
       "      <th>8</th>\n",
       "      <td>723453085817950208</td>\n",
       "      <td>ESO: los alumnos de 3° y 4° reciben formación ...</td>\n",
       "      <td>[alumn, 3, 4, recib, formacion, prevencion, ac...</td>\n",
       "    </tr>\n",
       "    <tr>\n",
       "      <th>9</th>\n",
       "      <td>723904453716377600</td>\n",
       "      <td>Detenidos tres guardias civiles en una operaci...</td>\n",
       "      <td>[deten, tres, guardi, civil, oper, trafic, drog]</td>\n",
       "    </tr>\n",
       "    <tr>\n",
       "      <th>10</th>\n",
       "      <td>724351572008820737</td>\n",
       "      <td>Paseando por Gran Vía... Sin tráfico!!! 😃 @ Gr...</td>\n",
       "      <td>[pas, gran, via, trafic, gran, via, madr, españ]</td>\n",
       "    </tr>\n",
       "    <tr>\n",
       "      <th>11</th>\n",
       "      <td>724518957575598080</td>\n",
       "      <td>#Madrid Detenido un guardia civil por la muert...</td>\n",
       "      <td>[madr, deten, guardi, civil, muert, hombr, tra...</td>\n",
       "    </tr>\n",
       "    <tr>\n",
       "      <th>12</th>\n",
       "      <td>724632895550164992</td>\n",
       "      <td>Carmena deja bajo mínimos la gestión del tráfi...</td>\n",
       "      <td>[carmen, dej, baj, min, gestion, trafic, madr]</td>\n",
       "    </tr>\n",
       "    <tr>\n",
       "      <th>13</th>\n",
       "      <td>725556943457124352</td>\n",
       "      <td>#Madrid Fallece un hombre en un accidente de t...</td>\n",
       "      <td>[madr, fallec, hombr, accident, trafic, m30, a...</td>\n",
       "    </tr>\n",
       "    <tr>\n",
       "      <th>14</th>\n",
       "      <td>725746540338405376</td>\n",
       "      <td>.@ivazquezalcalde baja considerablemente el im...</td>\n",
       "      <td>[ivazquezalcald, baj, consider, import, mult, ...</td>\n",
       "    </tr>\n",
       "    <tr>\n",
       "      <th>15</th>\n",
       "      <td>732246898535370752</td>\n",
       "      <td>El tráfico en la AP-51 aumentó hasta febrero u...</td>\n",
       "      <td>[trafic, ap51, aument, febrer, 62, cient]</td>\n",
       "    </tr>\n",
       "    <tr>\n",
       "      <th>16</th>\n",
       "      <td>732675384655941632</td>\n",
       "      <td>Un concepto novedoso de mercado Gourmet en zon...</td>\n",
       "      <td>[concept, noved, merc, gourmet, zon, alto, tra...</td>\n",
       "    </tr>\n",
       "    <tr>\n",
       "      <th>17</th>\n",
       "      <td>733566010033197056</td>\n",
       "      <td>Por fin Viernes y no se porque este día siempr...</td>\n",
       "      <td>[fin, viern, dia, siempr, trafic, feliz, dia, ...</td>\n",
       "    </tr>\n",
       "    <tr>\n",
       "      <th>18</th>\n",
       "      <td>733696066978095104</td>\n",
       "      <td>#Madrid ¿Te imaginas quitar el tráfico entre P...</td>\n",
       "      <td>[madr, imagin, quit, trafic, plaz, castill, ca...</td>\n",
       "    </tr>\n",
       "    <tr>\n",
       "      <th>19</th>\n",
       "      <td>735048581476818944</td>\n",
       "      <td>El Supremo rechaza el rescate a la R-2 porque ...</td>\n",
       "      <td>[suprem, rechaz, rescat, r2, empres, calcul, m...</td>\n",
       "    </tr>\n",
       "    <tr>\n",
       "      <th>20</th>\n",
       "      <td>737980565903708164</td>\n",
       "      <td>#Stigmabase | ES :  En Bucaramanga hay ollas d...</td>\n",
       "      <td>[stigmab, bucaramang, ollas, microtraf, esparc...</td>\n",
       "    </tr>\n",
       "    <tr>\n",
       "      <th>21</th>\n",
       "      <td>737998658663112706</td>\n",
       "      <td>Stigmabase | ES -  En Bucaramanga hay ollas de...</td>\n",
       "      <td>[stigmab, bucaramang, ollas, microtraf, esparc...</td>\n",
       "    </tr>\n",
       "    <tr>\n",
       "      <th>22</th>\n",
       "      <td>737998678728658948</td>\n",
       "      <td>Stigmabase | ES -  En Bucaramanga hay ollas de...</td>\n",
       "      <td>[stigmab, bucaramang, ollas, microtraf, esparc...</td>\n",
       "    </tr>\n",
       "    <tr>\n",
       "      <th>23</th>\n",
       "      <td>739503510090289155</td>\n",
       "      <td>Está bien que corten el tráfico por una manife...</td>\n",
       "      <td>[bien, cort, trafic, manifest, pod]</td>\n",
       "    </tr>\n",
       "    <tr>\n",
       "      <th>24</th>\n",
       "      <td>739513553376280576</td>\n",
       "      <td>El gran proyecto de Carmena: cuatro «scalextri...</td>\n",
       "      <td>[gran, proyect, carmen, cuatr, scalextric, ali...</td>\n",
       "    </tr>\n",
       "    <tr>\n",
       "      <th>25</th>\n",
       "      <td>740149098372726785</td>\n",
       "      <td>#Madrid Un 2,64% más de tráfico en las carrete...</td>\n",
       "      <td>[madr, 264, trafic, carreter, comun, 2015]</td>\n",
       "    </tr>\n",
       "    <tr>\n",
       "      <th>26</th>\n",
       "      <td>741675305564180480</td>\n",
       "      <td>El tráfico aumentó un 2,64% en las carreteras ...</td>\n",
       "      <td>[trafic, aument, 264, carreter, comun, madr, 2...</td>\n",
       "    </tr>\n",
       "    <tr>\n",
       "      <th>27</th>\n",
       "      <td>743730546052739073</td>\n",
       "      <td>Nosty explica el control de los medios por el ...</td>\n",
       "      <td>[nosty, explic, control, medi, narcotraf]</td>\n",
       "    </tr>\n",
       "    <tr>\n",
       "      <th>28</th>\n",
       "      <td>744501989552361472</td>\n",
       "      <td>Llegando a Madrid, que hoy sí que se está dand...</td>\n",
       "      <td>[lleg, madr, hoy, dand, genial, trafic, gasoli...</td>\n",
       "    </tr>\n",
       "    <tr>\n",
       "      <th>29</th>\n",
       "      <td>744810952051220480</td>\n",
       "      <td>El mayor legado de una sociedad es su cultura....</td>\n",
       "      <td>[mayor, leg, socied, cultur, arte, señal, traf...</td>\n",
       "    </tr>\n",
       "    <tr>\n",
       "      <th>30</th>\n",
       "      <td>744884541710467075</td>\n",
       "      <td>#Stigmabase | ES :  Por iniciativa de la Igles...</td>\n",
       "      <td>[stigmab, inici, iglesi, sell, acuerd, luch, p...</td>\n",
       "    </tr>\n",
       "    <tr>\n",
       "      <th>31</th>\n",
       "      <td>744982179646603266</td>\n",
       "      <td>Stigmabase | ES -  Por iniciativa de la Iglesi...</td>\n",
       "      <td>[stigmab, inici, iglesi, sell, acuerd, luch, p...</td>\n",
       "    </tr>\n",
       "    <tr>\n",
       "      <th>32</th>\n",
       "      <td>744982193408090113</td>\n",
       "      <td>Stigmabase | ES -  Por iniciativa de la Iglesi...</td>\n",
       "      <td>[stigmab, inici, iglesi, sell, acuerd, luch, p...</td>\n",
       "    </tr>\n",
       "    <tr>\n",
       "      <th>33</th>\n",
       "      <td>745360931341930496</td>\n",
       "      <td>Os recordamos que la M-206 se cortará al tráfi...</td>\n",
       "      <td>[record, m206, cort, trafic, ver, fueg, artifi...</td>\n",
       "    </tr>\n",
       "    <tr>\n",
       "      <th>34</th>\n",
       "      <td>746360269769609216</td>\n",
       "      <td>#Madrid El túnel de O'Donnell, cerrado al tráf...</td>\n",
       "      <td>[madr, tunel, odonnell, cerr, trafic, peligr, ...</td>\n",
       "    </tr>\n",
       "    <tr>\n",
       "      <th>35</th>\n",
       "      <td>748164723963748352</td>\n",
       "      <td>José Manuel nos explica la solución de Radware...</td>\n",
       "      <td>[jos, manuel, explic, solucion, radwar, balanc...</td>\n",
       "    </tr>\n",
       "    <tr>\n",
       "      <th>36</th>\n",
       "      <td>748176748286709760</td>\n",
       "      <td>Y como siempre lo mismo en tráfico corremos to...</td>\n",
       "      <td>[siempr, mism, trafic, corr, igual, madr, vill...</td>\n",
       "    </tr>\n",
       "    <tr>\n",
       "      <th>37</th>\n",
       "      <td>748886653943615489</td>\n",
       "      <td>.@maucarlo1 \"Si mañana se apagara la TV uno de...</td>\n",
       "      <td>[maucarlo1, mañan, apag, tv, grand, damnific, ...</td>\n",
       "    </tr>\n",
       "    <tr>\n",
       "      <th>38</th>\n",
       "      <td>750621856256757760</td>\n",
       "      <td>#Madrid El TJSM investigará a Ortiz y ve indic...</td>\n",
       "      <td>[madr, tjsm, investig, ortiz, ve, indici, deli...</td>\n",
       "    </tr>\n",
       "    <tr>\n",
       "      <th>39</th>\n",
       "      <td>753177954931372032</td>\n",
       "      <td>Sácate el te antes de las vacaciones de tráfic...</td>\n",
       "      <td>[sacat, vacacion, trafic, dgt, ultim, exam, di...</td>\n",
       "    </tr>\n",
       "    <tr>\n",
       "      <th>40</th>\n",
       "      <td>753568479219810304</td>\n",
       "      <td>#Stigmabase | ES :  Las verdaderas víctimas de...</td>\n",
       "      <td>[stigmab, verdader, victim, narcotraf, clar, d...</td>\n",
       "    </tr>\n",
       "    <tr>\n",
       "      <th>41</th>\n",
       "      <td>753583355208146944</td>\n",
       "      <td>Stigmabase | ES -  Las verdaderas víctimas del...</td>\n",
       "      <td>[stigmab, verdader, victim, narcotraf, clar, d...</td>\n",
       "    </tr>\n",
       "    <tr>\n",
       "      <th>42</th>\n",
       "      <td>753583369473056768</td>\n",
       "      <td>Stigmabase | ES -  Las verdaderas víctimas del...</td>\n",
       "      <td>[stigmab, verdader, victim, narcotraf]</td>\n",
       "    </tr>\n",
       "    <tr>\n",
       "      <th>43</th>\n",
       "      <td>759035037287190530</td>\n",
       "      <td>#Madrid Operación salida de tráfico verano 201...</td>\n",
       "      <td>[madr, oper, sal, trafic, veran, 2016, 2930, j...</td>\n",
       "    </tr>\n",
       "  </tbody>\n",
       "</table>\n",
       "</div>"
      ],
      "text/plain": [
       "                   _id                                               text  \\\n",
       "0   722403909298315264  #Stigmabase | ES :  Acabar con la siniestra es...   \n",
       "1   722463912973570049  Stigmabase | ES -  Acabar con la siniestra esp...   \n",
       "2   722463931084607488  Stigmabase | ES -  Acabar con la siniestra esp...   \n",
       "3   722662867653279744  #Madrid El Ayuntamiento refuerza sus medidas d...   \n",
       "4   722681221411684353  Lluvia y tráfico, combinación ideal para hacer...   \n",
       "5   723139143782404096  #Stigmabase | ES :  Acabar con la siniestra es...   \n",
       "6   723236390574522368  Stigmabase | ES -  Acabar con la siniestra esp...   \n",
       "7   723236402083713024  Stigmabase | ES -  Acabar con la siniestra esp...   \n",
       "8   723453085817950208  ESO: los alumnos de 3° y 4° reciben formación ...   \n",
       "9   723904453716377600  Detenidos tres guardias civiles en una operaci...   \n",
       "10  724351572008820737  Paseando por Gran Vía... Sin tráfico!!! 😃 @ Gr...   \n",
       "11  724518957575598080  #Madrid Detenido un guardia civil por la muert...   \n",
       "12  724632895550164992  Carmena deja bajo mínimos la gestión del tráfi...   \n",
       "13  725556943457124352  #Madrid Fallece un hombre en un accidente de t...   \n",
       "14  725746540338405376  .@ivazquezalcalde baja considerablemente el im...   \n",
       "15  732246898535370752  El tráfico en la AP-51 aumentó hasta febrero u...   \n",
       "16  732675384655941632  Un concepto novedoso de mercado Gourmet en zon...   \n",
       "17  733566010033197056  Por fin Viernes y no se porque este día siempr...   \n",
       "18  733696066978095104  #Madrid ¿Te imaginas quitar el tráfico entre P...   \n",
       "19  735048581476818944  El Supremo rechaza el rescate a la R-2 porque ...   \n",
       "20  737980565903708164  #Stigmabase | ES :  En Bucaramanga hay ollas d...   \n",
       "21  737998658663112706  Stigmabase | ES -  En Bucaramanga hay ollas de...   \n",
       "22  737998678728658948  Stigmabase | ES -  En Bucaramanga hay ollas de...   \n",
       "23  739503510090289155  Está bien que corten el tráfico por una manife...   \n",
       "24  739513553376280576  El gran proyecto de Carmena: cuatro «scalextri...   \n",
       "25  740149098372726785  #Madrid Un 2,64% más de tráfico en las carrete...   \n",
       "26  741675305564180480  El tráfico aumentó un 2,64% en las carreteras ...   \n",
       "27  743730546052739073  Nosty explica el control de los medios por el ...   \n",
       "28  744501989552361472  Llegando a Madrid, que hoy sí que se está dand...   \n",
       "29  744810952051220480  El mayor legado de una sociedad es su cultura....   \n",
       "30  744884541710467075  #Stigmabase | ES :  Por iniciativa de la Igles...   \n",
       "31  744982179646603266  Stigmabase | ES -  Por iniciativa de la Iglesi...   \n",
       "32  744982193408090113  Stigmabase | ES -  Por iniciativa de la Iglesi...   \n",
       "33  745360931341930496  Os recordamos que la M-206 se cortará al tráfi...   \n",
       "34  746360269769609216  #Madrid El túnel de O'Donnell, cerrado al tráf...   \n",
       "35  748164723963748352  José Manuel nos explica la solución de Radware...   \n",
       "36  748176748286709760  Y como siempre lo mismo en tráfico corremos to...   \n",
       "37  748886653943615489  .@maucarlo1 \"Si mañana se apagara la TV uno de...   \n",
       "38  750621856256757760  #Madrid El TJSM investigará a Ortiz y ve indic...   \n",
       "39  753177954931372032  Sácate el te antes de las vacaciones de tráfic...   \n",
       "40  753568479219810304  #Stigmabase | ES :  Las verdaderas víctimas de...   \n",
       "41  753583355208146944  Stigmabase | ES -  Las verdaderas víctimas del...   \n",
       "42  753583369473056768  Stigmabase | ES -  Las verdaderas víctimas del...   \n",
       "43  759035037287190530  #Madrid Operación salida de tráfico verano 201...   \n",
       "\n",
       "                                                words  \n",
       "0   [stigmab, acab, siniestr, espiral, trafic, con...  \n",
       "1   [stigmab, acab, siniestr, espiral, trafic, con...  \n",
       "2   [stigmab, acab, siniestr, espiral, trafic, con...  \n",
       "3   [madr, ayunt, refuerz, med, gestion, trafic, l...  \n",
       "4   [lluvi, trafic, combin, ideal, hac, dia, mier,...  \n",
       "5   [stigmab, acab, siniestr, espiral, trafic, con...  \n",
       "6   [stigmab, acab, siniestr, espiral, trafic, con...  \n",
       "7   [stigmab, acab, siniestr, espiral, trafic, con...  \n",
       "8   [alumn, 3, 4, recib, formacion, prevencion, ac...  \n",
       "9    [deten, tres, guardi, civil, oper, trafic, drog]  \n",
       "10   [pas, gran, via, trafic, gran, via, madr, españ]  \n",
       "11  [madr, deten, guardi, civil, muert, hombr, tra...  \n",
       "12     [carmen, dej, baj, min, gestion, trafic, madr]  \n",
       "13  [madr, fallec, hombr, accident, trafic, m30, a...  \n",
       "14  [ivazquezalcald, baj, consider, import, mult, ...  \n",
       "15          [trafic, ap51, aument, febrer, 62, cient]  \n",
       "16  [concept, noved, merc, gourmet, zon, alto, tra...  \n",
       "17  [fin, viern, dia, siempr, trafic, feliz, dia, ...  \n",
       "18  [madr, imagin, quit, trafic, plaz, castill, ca...  \n",
       "19  [suprem, rechaz, rescat, r2, empres, calcul, m...  \n",
       "20  [stigmab, bucaramang, ollas, microtraf, esparc...  \n",
       "21  [stigmab, bucaramang, ollas, microtraf, esparc...  \n",
       "22  [stigmab, bucaramang, ollas, microtraf, esparc...  \n",
       "23                [bien, cort, trafic, manifest, pod]  \n",
       "24  [gran, proyect, carmen, cuatr, scalextric, ali...  \n",
       "25         [madr, 264, trafic, carreter, comun, 2015]  \n",
       "26  [trafic, aument, 264, carreter, comun, madr, 2...  \n",
       "27          [nosty, explic, control, medi, narcotraf]  \n",
       "28  [lleg, madr, hoy, dand, genial, trafic, gasoli...  \n",
       "29  [mayor, leg, socied, cultur, arte, señal, traf...  \n",
       "30  [stigmab, inici, iglesi, sell, acuerd, luch, p...  \n",
       "31  [stigmab, inici, iglesi, sell, acuerd, luch, p...  \n",
       "32  [stigmab, inici, iglesi, sell, acuerd, luch, p...  \n",
       "33  [record, m206, cort, trafic, ver, fueg, artifi...  \n",
       "34  [madr, tunel, odonnell, cerr, trafic, peligr, ...  \n",
       "35  [jos, manuel, explic, solucion, radwar, balanc...  \n",
       "36  [siempr, mism, trafic, corr, igual, madr, vill...  \n",
       "37  [maucarlo1, mañan, apag, tv, grand, damnific, ...  \n",
       "38  [madr, tjsm, investig, ortiz, ve, indici, deli...  \n",
       "39  [sacat, vacacion, trafic, dgt, ultim, exam, di...  \n",
       "40  [stigmab, verdader, victim, narcotraf, clar, d...  \n",
       "41  [stigmab, verdader, victim, narcotraf, clar, d...  \n",
       "42             [stigmab, verdader, victim, narcotraf]  \n",
       "43  [madr, oper, sal, trafic, veran, 2016, 2930, j...  "
      ]
     },
     "execution_count": 112,
     "metadata": {},
     "output_type": "execute_result"
    }
   ],
   "source": [
    "tabla1"
   ]
  },
  {
   "cell_type": "code",
   "execution_count": 123,
   "metadata": {
    "collapsed": false
   },
   "outputs": [],
   "source": [
    "def create_vector( wordsS):\n",
    "    d_vector=[]\n",
    "    encontrado=False\n",
    "    for w in dpeso:\n",
    "        for t in wordsS:\n",
    "            if t==w[0]:\n",
    "                encontrado= True\n",
    "                continue\n",
    "        if encontrado:\n",
    "            d_vector.append(w[1])\n",
    "        else:\n",
    "            d_vector.append(0)\n",
    "        \n",
    "            \n",
    "    print (d_vector)\n",
    "    return(d_vector)\n"
   ]
  },
  {
   "cell_type": "code",
   "execution_count": 124,
   "metadata": {
    "collapsed": false
   },
   "outputs": [
    {
     "name": "stdout",
     "output_type": "stream",
     "text": [
      "[0.6989700043360187, 1.0543576623225925, 0.6368220975871742]\n",
      "[0.6989700043360187, 1.0543576623225925, 0.6368220975871742]\n",
      "[0.6989700043360187, 1.0543576623225925, 0.6368220975871742]\n",
      "[0, 1.0543576623225925, 0.6368220975871742]\n",
      "[0, 1.0543576623225925, 0.6368220975871742]\n",
      "[0.6989700043360187, 1.0543576623225925, 0.6368220975871742]\n",
      "[0.6989700043360187, 1.0543576623225925, 0.6368220975871742]\n",
      "[0.6989700043360187, 1.0543576623225925, 0.6368220975871742]\n",
      "[0, 1.0543576623225925, 0.6368220975871742]\n",
      "[0, 1.0543576623225925, 0.6368220975871742]\n",
      "[0, 1.0543576623225925, 0.6368220975871742]\n",
      "[0, 1.0543576623225925, 0.6368220975871742]\n",
      "[0, 1.0543576623225925, 0.6368220975871742]\n",
      "[0, 1.0543576623225925, 0.6368220975871742]\n",
      "[0, 1.0543576623225925, 0.6368220975871742]\n",
      "[0, 1.0543576623225925, 0.6368220975871742]\n",
      "[0, 1.0543576623225925, 0.6368220975871742]\n",
      "[0, 1.0543576623225925, 0.6368220975871742]\n",
      "[0, 1.0543576623225925, 0.6368220975871742]\n",
      "[0, 1.0543576623225925, 0.6368220975871742]\n",
      "[0.6989700043360187, 1.0543576623225925, 0.6368220975871742]\n",
      "[0.6989700043360187, 1.0543576623225925, 0.6368220975871742]\n",
      "[0.6989700043360187, 1.0543576623225925, 0.6368220975871742]\n",
      "[0, 1.0543576623225925, 0.6368220975871742]\n",
      "[0, 1.0543576623225925, 0.6368220975871742]\n",
      "[0, 1.0543576623225925, 0.6368220975871742]\n",
      "[0, 1.0543576623225925, 0.6368220975871742]\n",
      "[0, 0, 0]\n",
      "[0, 1.0543576623225925, 0.6368220975871742]\n",
      "[0, 1.0543576623225925, 0.6368220975871742]\n",
      "[0.6989700043360187, 1.0543576623225925, 0.6368220975871742]\n",
      "[0.6989700043360187, 1.0543576623225925, 0.6368220975871742]\n",
      "[0.6989700043360187, 1.0543576623225925, 0.6368220975871742]\n",
      "[0, 1.0543576623225925, 0.6368220975871742]\n",
      "[0, 1.0543576623225925, 0.6368220975871742]\n",
      "[0, 1.0543576623225925, 0.6368220975871742]\n",
      "[0, 1.0543576623225925, 0.6368220975871742]\n",
      "[0, 1.0543576623225925, 0.6368220975871742]\n",
      "[0, 1.0543576623225925, 0.6368220975871742]\n",
      "[0, 1.0543576623225925, 0.6368220975871742]\n",
      "[0.6989700043360187, 1.0543576623225925, 0.6368220975871742]\n",
      "[0.6989700043360187, 1.0543576623225925, 0.6368220975871742]\n",
      "[0.6989700043360187, 1.0543576623225925, 0.6368220975871742]\n",
      "[0, 1.0543576623225925, 0.6368220975871742]\n"
     ]
    }
   ],
   "source": [
    "tabla1['vector'] = tabla1.words.apply(create_vector)"
   ]
  },
  {
   "cell_type": "code",
   "execution_count": 125,
   "metadata": {
    "collapsed": false
   },
   "outputs": [
    {
     "name": "stdout",
     "output_type": "stream",
     "text": [
      "[[ 0.69897     1.05435766  0.6368221 ]\n",
      " [ 0.69897     1.05435766  0.6368221 ]\n",
      " [ 0.69897     1.05435766  0.6368221 ]\n",
      " [ 0.          1.05435766  0.6368221 ]\n",
      " [ 0.          1.05435766  0.6368221 ]\n",
      " [ 0.69897     1.05435766  0.6368221 ]\n",
      " [ 0.69897     1.05435766  0.6368221 ]\n",
      " [ 0.69897     1.05435766  0.6368221 ]\n",
      " [ 0.          1.05435766  0.6368221 ]\n",
      " [ 0.          1.05435766  0.6368221 ]\n",
      " [ 0.          1.05435766  0.6368221 ]\n",
      " [ 0.          1.05435766  0.6368221 ]\n",
      " [ 0.          1.05435766  0.6368221 ]\n",
      " [ 0.          1.05435766  0.6368221 ]\n",
      " [ 0.          1.05435766  0.6368221 ]\n",
      " [ 0.          1.05435766  0.6368221 ]\n",
      " [ 0.          1.05435766  0.6368221 ]\n",
      " [ 0.          1.05435766  0.6368221 ]\n",
      " [ 0.          1.05435766  0.6368221 ]\n",
      " [ 0.          1.05435766  0.6368221 ]\n",
      " [ 0.69897     1.05435766  0.6368221 ]\n",
      " [ 0.69897     1.05435766  0.6368221 ]\n",
      " [ 0.69897     1.05435766  0.6368221 ]\n",
      " [ 0.          1.05435766  0.6368221 ]\n",
      " [ 0.          1.05435766  0.6368221 ]\n",
      " [ 0.          1.05435766  0.6368221 ]\n",
      " [ 0.          1.05435766  0.6368221 ]\n",
      " [ 0.          0.          0.        ]\n",
      " [ 0.          1.05435766  0.6368221 ]\n",
      " [ 0.          1.05435766  0.6368221 ]\n",
      " [ 0.69897     1.05435766  0.6368221 ]\n",
      " [ 0.69897     1.05435766  0.6368221 ]\n",
      " [ 0.69897     1.05435766  0.6368221 ]\n",
      " [ 0.          1.05435766  0.6368221 ]\n",
      " [ 0.          1.05435766  0.6368221 ]\n",
      " [ 0.          1.05435766  0.6368221 ]\n",
      " [ 0.          1.05435766  0.6368221 ]\n",
      " [ 0.          1.05435766  0.6368221 ]\n",
      " [ 0.          1.05435766  0.6368221 ]\n",
      " [ 0.          1.05435766  0.6368221 ]\n",
      " [ 0.69897     1.05435766  0.6368221 ]\n",
      " [ 0.69897     1.05435766  0.6368221 ]\n",
      " [ 0.69897     1.05435766  0.6368221 ]\n",
      " [ 0.          1.05435766  0.6368221 ]]\n",
      "44\n"
     ]
    }
   ],
   "source": [
    "lista_array=[]\n",
    "for t in tabla1[\"vector\"]:\n",
    "    lista_array.append(t)\n",
    "Z = np.array(lista_array)\n",
    "p=[]\n",
    "print(Z)\n",
    "print(len(lista_array))\n",
    "for e in range(len(lista_array)):\n",
    "    p.append(1)\n",
    "\n"
   ]
  },
  {
   "cell_type": "code",
   "execution_count": 126,
   "metadata": {
    "collapsed": true
   },
   "outputs": [],
   "source": [
    "clf = svm.SVC(kernel='linear', C = 1.0)"
   ]
  },
  {
   "cell_type": "code",
   "execution_count": 127,
   "metadata": {
    "collapsed": false
   },
   "outputs": [
    {
     "ename": "ValueError",
     "evalue": "The number of classes has to be greater than one; got 1",
     "output_type": "error",
     "traceback": [
      "\u001b[1;31m---------------------------------------------------------------------------\u001b[0m",
      "\u001b[1;31mValueError\u001b[0m                                Traceback (most recent call last)",
      "\u001b[1;32m<ipython-input-127-cbc0e4defac1>\u001b[0m in \u001b[0;36m<module>\u001b[1;34m()\u001b[0m\n\u001b[1;32m----> 1\u001b[1;33m \u001b[0mclf\u001b[0m\u001b[1;33m.\u001b[0m\u001b[0mfit\u001b[0m\u001b[1;33m(\u001b[0m\u001b[0mZ\u001b[0m\u001b[1;33m,\u001b[0m\u001b[0mp\u001b[0m\u001b[1;33m)\u001b[0m\u001b[1;33m\u001b[0m\u001b[0m\n\u001b[0m",
      "\u001b[1;32m~\\AppData\\Local\\Continuum\\Anaconda3\\lib\\site-packages\\sklearn\\svm\\base.py\u001b[0m in \u001b[0;36mfit\u001b[1;34m(self, X, y, sample_weight)\u001b[0m\n\u001b[0;32m    150\u001b[0m \u001b[1;33m\u001b[0m\u001b[0m\n\u001b[0;32m    151\u001b[0m         \u001b[0mX\u001b[0m\u001b[1;33m,\u001b[0m \u001b[0my\u001b[0m \u001b[1;33m=\u001b[0m \u001b[0mcheck_X_y\u001b[0m\u001b[1;33m(\u001b[0m\u001b[0mX\u001b[0m\u001b[1;33m,\u001b[0m \u001b[0my\u001b[0m\u001b[1;33m,\u001b[0m \u001b[0mdtype\u001b[0m\u001b[1;33m=\u001b[0m\u001b[0mnp\u001b[0m\u001b[1;33m.\u001b[0m\u001b[0mfloat64\u001b[0m\u001b[1;33m,\u001b[0m \u001b[0morder\u001b[0m\u001b[1;33m=\u001b[0m\u001b[1;34m'C'\u001b[0m\u001b[1;33m,\u001b[0m \u001b[0maccept_sparse\u001b[0m\u001b[1;33m=\u001b[0m\u001b[1;34m'csr'\u001b[0m\u001b[1;33m)\u001b[0m\u001b[1;33m\u001b[0m\u001b[0m\n\u001b[1;32m--> 152\u001b[1;33m         \u001b[0my\u001b[0m \u001b[1;33m=\u001b[0m \u001b[0mself\u001b[0m\u001b[1;33m.\u001b[0m\u001b[0m_validate_targets\u001b[0m\u001b[1;33m(\u001b[0m\u001b[0my\u001b[0m\u001b[1;33m)\u001b[0m\u001b[1;33m\u001b[0m\u001b[0m\n\u001b[0m\u001b[0;32m    153\u001b[0m \u001b[1;33m\u001b[0m\u001b[0m\n\u001b[0;32m    154\u001b[0m         sample_weight = np.asarray([]\n",
      "\u001b[1;32m~\\AppData\\Local\\Continuum\\Anaconda3\\lib\\site-packages\\sklearn\\svm\\base.py\u001b[0m in \u001b[0;36m_validate_targets\u001b[1;34m(self, y)\u001b[0m\n\u001b[0;32m    524\u001b[0m             raise ValueError(\n\u001b[0;32m    525\u001b[0m                 \u001b[1;34m\"The number of classes has to be greater than one; got %d\"\u001b[0m\u001b[1;33m\u001b[0m\u001b[0m\n\u001b[1;32m--> 526\u001b[1;33m                 % len(cls))\n\u001b[0m\u001b[0;32m    527\u001b[0m \u001b[1;33m\u001b[0m\u001b[0m\n\u001b[0;32m    528\u001b[0m         \u001b[0mself\u001b[0m\u001b[1;33m.\u001b[0m\u001b[0mclasses_\u001b[0m \u001b[1;33m=\u001b[0m \u001b[0mcls\u001b[0m\u001b[1;33m\u001b[0m\u001b[0m\n",
      "\u001b[1;31mValueError\u001b[0m: The number of classes has to be greater than one; got 1"
     ]
    }
   ],
   "source": [
    "clf.fit(Z,p)"
   ]
  },
  {
   "cell_type": "code",
   "execution_count": 92,
   "metadata": {
    "collapsed": false
   },
   "outputs": [
    {
     "ename": "NotFittedError",
     "evalue": "This SVC instance is not fitted yet. Call 'fit' with appropriate arguments before using this method.",
     "output_type": "error",
     "traceback": [
      "\u001b[1;31m---------------------------------------------------------------------------\u001b[0m",
      "\u001b[1;31mNotFittedError\u001b[0m                            Traceback (most recent call last)",
      "\u001b[1;32m<ipython-input-92-97dddc292a8a>\u001b[0m in \u001b[0;36m<module>\u001b[1;34m()\u001b[0m\n\u001b[1;32m----> 1\u001b[1;33m \u001b[0mprint\u001b[0m\u001b[1;33m(\u001b[0m\u001b[0mclf\u001b[0m\u001b[1;33m.\u001b[0m\u001b[0mpredict\u001b[0m\u001b[1;33m(\u001b[0m\u001b[1;33m[\u001b[0m\u001b[1;36m1\u001b[0m\u001b[1;33m,\u001b[0m\u001b[1;36m0.5\u001b[0m\u001b[1;33m,\u001b[0m\u001b[1;36m0.4\u001b[0m\u001b[1;33m,\u001b[0m\u001b[1;36m1\u001b[0m\u001b[1;33m]\u001b[0m\u001b[1;33m)\u001b[0m\u001b[1;33m)\u001b[0m\u001b[1;33m\u001b[0m\u001b[0m\n\u001b[0m",
      "\u001b[1;32m~\\AppData\\Local\\Continuum\\Anaconda3\\lib\\site-packages\\sklearn\\svm\\base.py\u001b[0m in \u001b[0;36mpredict\u001b[1;34m(self, X)\u001b[0m\n\u001b[0;32m    571\u001b[0m             \u001b[0mClass\u001b[0m \u001b[0mlabels\u001b[0m \u001b[1;32mfor\u001b[0m \u001b[0msamples\u001b[0m \u001b[1;32min\u001b[0m \u001b[0mX\u001b[0m\u001b[1;33m.\u001b[0m\u001b[1;33m\u001b[0m\u001b[0m\n\u001b[0;32m    572\u001b[0m         \"\"\"\n\u001b[1;32m--> 573\u001b[1;33m         \u001b[0my\u001b[0m \u001b[1;33m=\u001b[0m \u001b[0msuper\u001b[0m\u001b[1;33m(\u001b[0m\u001b[0mBaseSVC\u001b[0m\u001b[1;33m,\u001b[0m \u001b[0mself\u001b[0m\u001b[1;33m)\u001b[0m\u001b[1;33m.\u001b[0m\u001b[0mpredict\u001b[0m\u001b[1;33m(\u001b[0m\u001b[0mX\u001b[0m\u001b[1;33m)\u001b[0m\u001b[1;33m\u001b[0m\u001b[0m\n\u001b[0m\u001b[0;32m    574\u001b[0m         \u001b[1;32mreturn\u001b[0m \u001b[0mself\u001b[0m\u001b[1;33m.\u001b[0m\u001b[0mclasses_\u001b[0m\u001b[1;33m.\u001b[0m\u001b[0mtake\u001b[0m\u001b[1;33m(\u001b[0m\u001b[0mnp\u001b[0m\u001b[1;33m.\u001b[0m\u001b[0masarray\u001b[0m\u001b[1;33m(\u001b[0m\u001b[0my\u001b[0m\u001b[1;33m,\u001b[0m \u001b[0mdtype\u001b[0m\u001b[1;33m=\u001b[0m\u001b[0mnp\u001b[0m\u001b[1;33m.\u001b[0m\u001b[0mintp\u001b[0m\u001b[1;33m)\u001b[0m\u001b[1;33m)\u001b[0m\u001b[1;33m\u001b[0m\u001b[0m\n\u001b[0;32m    575\u001b[0m \u001b[1;33m\u001b[0m\u001b[0m\n",
      "\u001b[1;32m~\\AppData\\Local\\Continuum\\Anaconda3\\lib\\site-packages\\sklearn\\svm\\base.py\u001b[0m in \u001b[0;36mpredict\u001b[1;34m(self, X)\u001b[0m\n\u001b[0;32m    308\u001b[0m         \u001b[0my_pred\u001b[0m \u001b[1;33m:\u001b[0m \u001b[0marray\u001b[0m\u001b[1;33m,\u001b[0m \u001b[0mshape\u001b[0m \u001b[1;33m(\u001b[0m\u001b[0mn_samples\u001b[0m\u001b[1;33m,\u001b[0m\u001b[1;33m)\u001b[0m\u001b[1;33m\u001b[0m\u001b[0m\n\u001b[0;32m    309\u001b[0m         \"\"\"\n\u001b[1;32m--> 310\u001b[1;33m         \u001b[0mX\u001b[0m \u001b[1;33m=\u001b[0m \u001b[0mself\u001b[0m\u001b[1;33m.\u001b[0m\u001b[0m_validate_for_predict\u001b[0m\u001b[1;33m(\u001b[0m\u001b[0mX\u001b[0m\u001b[1;33m)\u001b[0m\u001b[1;33m\u001b[0m\u001b[0m\n\u001b[0m\u001b[0;32m    311\u001b[0m         \u001b[0mpredict\u001b[0m \u001b[1;33m=\u001b[0m \u001b[0mself\u001b[0m\u001b[1;33m.\u001b[0m\u001b[0m_sparse_predict\u001b[0m \u001b[1;32mif\u001b[0m \u001b[0mself\u001b[0m\u001b[1;33m.\u001b[0m\u001b[0m_sparse\u001b[0m \u001b[1;32melse\u001b[0m \u001b[0mself\u001b[0m\u001b[1;33m.\u001b[0m\u001b[0m_dense_predict\u001b[0m\u001b[1;33m\u001b[0m\u001b[0m\n\u001b[0;32m    312\u001b[0m         \u001b[1;32mreturn\u001b[0m \u001b[0mpredict\u001b[0m\u001b[1;33m(\u001b[0m\u001b[0mX\u001b[0m\u001b[1;33m)\u001b[0m\u001b[1;33m\u001b[0m\u001b[0m\n",
      "\u001b[1;32m~\\AppData\\Local\\Continuum\\Anaconda3\\lib\\site-packages\\sklearn\\svm\\base.py\u001b[0m in \u001b[0;36m_validate_for_predict\u001b[1;34m(self, X)\u001b[0m\n\u001b[0;32m    455\u001b[0m \u001b[1;33m\u001b[0m\u001b[0m\n\u001b[0;32m    456\u001b[0m     \u001b[1;32mdef\u001b[0m \u001b[0m_validate_for_predict\u001b[0m\u001b[1;33m(\u001b[0m\u001b[0mself\u001b[0m\u001b[1;33m,\u001b[0m \u001b[0mX\u001b[0m\u001b[1;33m)\u001b[0m\u001b[1;33m:\u001b[0m\u001b[1;33m\u001b[0m\u001b[0m\n\u001b[1;32m--> 457\u001b[1;33m         \u001b[0mcheck_is_fitted\u001b[0m\u001b[1;33m(\u001b[0m\u001b[0mself\u001b[0m\u001b[1;33m,\u001b[0m \u001b[1;34m'support_'\u001b[0m\u001b[1;33m)\u001b[0m\u001b[1;33m\u001b[0m\u001b[0m\n\u001b[0m\u001b[0;32m    458\u001b[0m \u001b[1;33m\u001b[0m\u001b[0m\n\u001b[0;32m    459\u001b[0m         \u001b[0mX\u001b[0m \u001b[1;33m=\u001b[0m \u001b[0mcheck_array\u001b[0m\u001b[1;33m(\u001b[0m\u001b[0mX\u001b[0m\u001b[1;33m,\u001b[0m \u001b[0maccept_sparse\u001b[0m\u001b[1;33m=\u001b[0m\u001b[1;34m'csr'\u001b[0m\u001b[1;33m,\u001b[0m \u001b[0mdtype\u001b[0m\u001b[1;33m=\u001b[0m\u001b[0mnp\u001b[0m\u001b[1;33m.\u001b[0m\u001b[0mfloat64\u001b[0m\u001b[1;33m,\u001b[0m \u001b[0morder\u001b[0m\u001b[1;33m=\u001b[0m\u001b[1;34m\"C\"\u001b[0m\u001b[1;33m)\u001b[0m\u001b[1;33m\u001b[0m\u001b[0m\n",
      "\u001b[1;32m~\\AppData\\Local\\Continuum\\Anaconda3\\lib\\site-packages\\sklearn\\utils\\validation.py\u001b[0m in \u001b[0;36mcheck_is_fitted\u001b[1;34m(estimator, attributes, msg, all_or_any)\u001b[0m\n\u001b[0;32m    688\u001b[0m     \u001b[1;32mif\u001b[0m \u001b[1;32mnot\u001b[0m \u001b[0mall_or_any\u001b[0m\u001b[1;33m(\u001b[0m\u001b[1;33m[\u001b[0m\u001b[0mhasattr\u001b[0m\u001b[1;33m(\u001b[0m\u001b[0mestimator\u001b[0m\u001b[1;33m,\u001b[0m \u001b[0mattr\u001b[0m\u001b[1;33m)\u001b[0m \u001b[1;32mfor\u001b[0m \u001b[0mattr\u001b[0m \u001b[1;32min\u001b[0m \u001b[0mattributes\u001b[0m\u001b[1;33m]\u001b[0m\u001b[1;33m)\u001b[0m\u001b[1;33m:\u001b[0m\u001b[1;33m\u001b[0m\u001b[0m\n\u001b[0;32m    689\u001b[0m         \u001b[1;31m# FIXME NotFittedError_ --> NotFittedError in 0.19\u001b[0m\u001b[1;33m\u001b[0m\u001b[1;33m\u001b[0m\u001b[0m\n\u001b[1;32m--> 690\u001b[1;33m         \u001b[1;32mraise\u001b[0m \u001b[0m_NotFittedError\u001b[0m\u001b[1;33m(\u001b[0m\u001b[0mmsg\u001b[0m \u001b[1;33m%\u001b[0m \u001b[1;33m{\u001b[0m\u001b[1;34m'name'\u001b[0m\u001b[1;33m:\u001b[0m \u001b[0mtype\u001b[0m\u001b[1;33m(\u001b[0m\u001b[0mestimator\u001b[0m\u001b[1;33m)\u001b[0m\u001b[1;33m.\u001b[0m\u001b[0m__name__\u001b[0m\u001b[1;33m}\u001b[0m\u001b[1;33m)\u001b[0m\u001b[1;33m\u001b[0m\u001b[0m\n\u001b[0m\u001b[0;32m    691\u001b[0m \u001b[1;33m\u001b[0m\u001b[0m\n\u001b[0;32m    692\u001b[0m \u001b[1;33m\u001b[0m\u001b[0m\n",
      "\u001b[1;31mNotFittedError\u001b[0m: This SVC instance is not fitted yet. Call 'fit' with appropriate arguments before using this method."
     ]
    }
   ],
   "source": [
    "print(clf.predict([1,0.5,0.4,1]))"
   ]
  },
  {
   "cell_type": "code",
   "execution_count": 11,
   "metadata": {
    "collapsed": false
   },
   "outputs": [
    {
     "name": "stdout",
     "output_type": "stream",
     "text": [
      "[1]\n"
     ]
    },
    {
     "name": "stderr",
     "output_type": "stream",
     "text": [
      "C:\\Users\\VerónicaChamorroAlva\\AppData\\Local\\Continuum\\Anaconda3\\lib\\site-packages\\sklearn\\utils\\validation.py:395: DeprecationWarning: Passing 1d arrays as data is deprecated in 0.17 and will raise ValueError in 0.19. Reshape your data either using X.reshape(-1, 1) if your data has a single feature or X.reshape(1, -1) if it contains a single sample.\n",
      "  DeprecationWarning)\n"
     ]
    }
   ],
   "source": [
    "print(clf.predict([0.58,10.76]))"
   ]
  },
  {
   "cell_type": "code",
   "execution_count": 10,
   "metadata": {
    "collapsed": false
   },
   "outputs": [
    {
     "name": "stdout",
     "output_type": "stream",
     "text": [
      "[-0.1380943  -0.24462418]\n"
     ]
    },
    {
     "data": {
      "image/png": "[encoded data removed]",
      "text/plain": [
       "<matplotlib.figure.Figure at 0x228af821780>"
      ]
     },
     "metadata": {},
     "output_type": "display_data"
    }
   ],
   "source": [
    "w = clf.coef_[0]\n",
    "print(w)\n",
    "\n",
    "a = -w[0] / w[1]\n",
    "\n",
    "xx = np.linspace(0,12)\n",
    "yy = a * xx - clf.intercept_[0] / w[1]\n",
    "\n",
    "h0 = plt.plot(xx, yy, 'k-', label=\"non weighted div\")\n",
    "\n",
    "plt.scatter(X[:, 0], X[:, 1], c = y)\n",
    "plt.legend()\n",
    "plt.show()"
   ]
  },
  {
   "cell_type": "code",
   "execution_count": 22,
   "metadata": {
    "collapsed": false
   },
   "outputs": [
    {
     "name": "stdout",
     "output_type": "stream",
     "text": [
      "carpeta\n"
     ]
    }
   ],
   "source": [
    "import re\n",
    "\n",
    "palabras = ['careta', 'carpeta', 'colita', 'cateta', 'cocreta', 'caleta', 'caseta']\n",
    "for termino in palabras:\n",
    "    if re.match('ca(...)ta', termino):\n",
    "        print(termino)  # careta , carpeta, cateta, caleta, caseta "
   ]
  },
  {
   "cell_type": "code",
   "execution_count": 28,
   "metadata": {
    "collapsed": false
   },
   "outputs": [
    {
     "name": "stdout",
     "output_type": "stream",
     "text": [
      "https://prueba.com\n",
      "http://sdjdsjkkjsd.ooscmms\n"
     ]
    }
   ],
   "source": [
    "palabras = ['https://prueba.com', 'http://sdjdsjkkjsd.ooscmms', 'otra1', 'otra2']\n",
    "for termino in palabras:\n",
    "    if re.match('htt[0-5a-z]', termino):  # nº de 0 a 5 y letra de a a z\n",
    "        print(termino) "
   ]
  },
  {
   "cell_type": "code",
   "execution_count": 38,
   "metadata": {
    "collapsed": false
   },
   "outputs": [
    {
     "name": "stdout",
     "output_type": "stream",
     "text": [
      "Los Madriles desde el Templo de Debod No todo son edificios tráfico multas de la ORA httpstco9TRGncqhiX \n",
      "Los Madriles desde el Templo de Debod No todo son edificios tráfico multas de la ORA httpstco9TRGncqhiX \n"
     ]
    }
   ],
   "source": [
    "text = 'Los Madriles desde el Templo de Debod... No todo son edificios, tráfico, multas de la ORA...… https://t.co/9TRGncqhiX '\n",
    "prueba1=re.sub(r'[^\\w\\s]','',text)   #solo palabras \n",
    "print(prueba1)\n",
    "prueba2=re.sub(r'(htt[a-z]\\s)', 'you', prueba1)\n",
    "print(prueba2)"
   ]
  },
  {
   "cell_type": "code",
   "execution_count": 49,
   "metadata": {
    "collapsed": false
   },
   "outputs": [
    {
     "data": {
      "text/plain": [
       "'Los Madriles desde el & lo de Debod... No todo son edificios, tráfico, multas de la ORA...… https://t.co/9TRGncqhiX '"
      ]
     },
     "execution_count": 49,
     "metadata": {},
     "output_type": "execute_result"
    }
   ],
   "source": [
    "re.sub(r'[\\s\\w]Tem[\\w\\s]', ' & ', text, flags=re.IGNORECASE)"
   ]
  },
  {
   "cell_type": "code",
   "execution_count": 58,
   "metadata": {
    "collapsed": false
   },
   "outputs": [
    {
     "name": "stdout",
     "output_type": "stream",
     "text": [
      "Los Madriles desde el Templo de Debod... No todo son edificios, tráfico, multas de la ORA...…  \n"
     ]
    }
   ],
   "source": [
    "URLless_string = re.sub(r'\\w+:\\/{2}[\\d\\w-]+(\\.[\\d\\w-]+)*(?:(?:\\/[^\\s/]*))*', '', text)\n",
    "print (URLless_string)"
   ]
  },
  {
   "cell_type": "code",
   "execution_count": null,
   "metadata": {
    "collapsed": true
   },
   "outputs": [],
   "source": []
  }
 ],
 "metadata": {
  "kernelspec": {
   "display_name": "Python 3",
   "language": "python",
   "name": "python3"
  },
  "language_info": {
   "codemirror_mode": {
    "name": "ipython",
    "version": 3
   },
   "file_extension": ".py",
   "mimetype": "text/x-python",
   "name": "python",
   "nbconvert_exporter": "python",
   "pygments_lexer": "ipython3",
   "version": "3.6.0"
  },
  "toc": {
   "colors": {
    "hover_highlight": "#DAA520",
    "running_highlight": "#FF0000",
    "selected_highlight": "#FFD700"
   },
   "moveMenuLeft": true,
   "nav_menu": {
    "height": "12px",
    "width": "252px"
   },
   "navigate_menu": true,
   "number_sections": true,
   "sideBar": true,
   "threshold": 4,
   "toc_cell": false,
   "toc_section_display": "block",
   "toc_window_display": false,
   "widenNotebook": false
  }
 },
 "nbformat": 4,
 "nbformat_minor": 2
}
